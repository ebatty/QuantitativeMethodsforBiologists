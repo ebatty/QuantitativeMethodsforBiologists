{
  "nbformat": 4,
  "nbformat_minor": 0,
  "metadata": {
    "colab": {
      "name": "QMBC_Homework1.ipynb",
      "provenance": [],
      "collapsed_sections": [],
      "authorship_tag": "ABX9TyMMSxVbwDJT/Vi9nOkdgsCE",
      "include_colab_link": true
    },
    "kernelspec": {
      "name": "python3",
      "display_name": "Python 3"
    },
    "language_info": {
      "name": "python"
    }
  },
  "cells": [
    {
      "cell_type": "markdown",
      "metadata": {
        "id": "view-in-github",
        "colab_type": "text"
      },
      "source": [
        "<a href=\"https://colab.research.google.com/github/ebatty/QuantitativeMethodsforBiologists/blob/main/homeworks/HW_Day1.ipynb\" target=\"_parent\"><img src=\"https://colab.research.google.com/assets/colab-badge.svg\" alt=\"Open In Colab\"/></a>"
      ]
    },
    {
      "cell_type": "markdown",
      "source": [
        "# Homework 1 \n",
        "Quantitative Methods for Biologists (Python),\n",
        "J-term 2022\n",
        "\n",
        "Materials originally in Matlab by Rick Born & Mike Springer, adapted to Python by Ella Batty January 2022\n"
      ],
      "metadata": {
        "id": "ulE7OUdhudU4"
      }
    },
    {
      "cell_type": "code",
      "source": [
        "import numpy as np\n",
        "import matplotlib.pyplot as plt"
      ],
      "metadata": {
        "id": "U6sBe240wyBG"
      },
      "execution_count": null,
      "outputs": []
    },
    {
      "cell_type": "markdown",
      "source": [
        "# Section 1: Fun with arrays"
      ],
      "metadata": {
        "id": "VEqFTy9Hy2nW"
      }
    },
    {
      "cell_type": "markdown",
      "source": [
        "**Problem 1:** Make an array with the following values by directly entering it and store it in `x`. \n",
        "\n",
        "\\begin{align}\n",
        "x = \\begin{bmatrix} 3 & 4 & 5 \\\\ 2 & 1 & 2 \\\\ 3 & 2 & 1 \\\\ 2 & 3 & 1 \\\\ \\end{bmatrix}\n",
        "\\end{align}\n",
        "\n",
        "\n",
        "\n"
      ],
      "metadata": {
        "id": "hnu19yaFuhKs"
      }
    },
    {
      "cell_type": "code",
      "execution_count": null,
      "metadata": {
        "id": "LW7mrhwauTic"
      },
      "outputs": [],
      "source": [
        ""
      ]
    },
    {
      "cell_type": "markdown",
      "source": [
        "**Problem 2:** Do the following:\n",
        "\n",
        "1.   Using code, calculate the shape of  array `x` from problem 1. (*LC #1*) What is the shape of `x`? \n",
        "\n",
        "2.   Retrieve the value from the 3rd row 2nd column of `x`. (*LC #2*: submit the code for this)\n",
        "\n",
        "3. Make a new array `y` with two copies of x side by side\n",
        "\n",
        "4. Make a new array `y` with two copies of x one on top of the other"
      ],
      "metadata": {
        "id": "o9zZi8qovWmf"
      }
    },
    {
      "cell_type": "code",
      "source": [
        ""
      ],
      "metadata": {
        "id": "L5eYZNFkfK5b"
      },
      "execution_count": null,
      "outputs": []
    },
    {
      "cell_type": "markdown",
      "source": [
        "**Problem 3:** For these, assume the `x` array from problem 1 and think it through without trying any code.  What will these do? \n",
        "\n",
        "1.   (*LC #3*) `x[:, 0] = x[:, 1]`\n",
        "  \n",
        "3.   (*LC #4*) `y = np.concatenate((x, 3), axis = 0)`  \n",
        "\n",
        "4.   `x  * (1 / x)`\n",
        "\n",
        "5.   `x + 2*x`\n",
        "  \n",
        "6.   `x[3, 0] = x[2, 2]`\n",
        "\n"
      ],
      "metadata": {
        "id": "LxMFNGLnv2TZ"
      }
    },
    {
      "cell_type": "markdown",
      "source": [
        "**Problem 4:** For these, assume the `x` array from problem 1 and think it through without trying any code, at least first. What will these return?\n",
        "\n",
        "1.   `x[1, 5]`\n",
        "\n",
        "2.  `x[:, 2]`\n",
        "  \n",
        "3.   (*LC #5*) `x[[2, 3, 1], [0, 1, 2]]`\n",
        "\n",
        "4.  (*LC #6*) `x[-1, -1]`\n",
        "\n",
        "5.  `x[:, ::2]`\n",
        "\n",
        "6.  (*LC #7*) `x[x > 2]`\n",
        "\n",
        "7.  `np.arange(0, 8, 2)`"
      ],
      "metadata": {
        "id": "nKy3P52afYyv"
      }
    },
    {
      "cell_type": "markdown",
      "source": [
        "**Problem 5:** (*LC #8*)\n",
        "\n",
        "Start by typing `t = np.arange(0, 100) * np.pi/25`\n",
        "\n",
        "Now do the following:\n",
        "\n",
        "1.  Plot sin(t) on the y axis and `t` on the x axis.\n",
        "\n",
        "2. Add to this plot (i.e. don't overwrite it) cos(t) on the y axis in red circles.\n",
        "\n",
        "3. Now add tan(t) in green and make the line width equal to 2.\n",
        "\n",
        "4. Plot a green line going from the point (0,0) to the point (20, 10)"
      ],
      "metadata": {
        "id": "I3aBxAfUj7Z9"
      }
    },
    {
      "cell_type": "code",
      "source": [
        ""
      ],
      "metadata": {
        "id": "B-q4FB-Mkfcj"
      },
      "execution_count": null,
      "outputs": []
    },
    {
      "cell_type": "markdown",
      "source": [
        "# Section 2: Flow Cytometry\n",
        "\n",
        "**Background**: We are interested in better understanding how cells respond to nutrients in their environment.  One way to do this is to compare the response of related strains and, when the responses are different, to use genetics to identify the traits responsible for these differences. \n",
        "\n",
        "In this example, we are comparing two wild type isolates of yeast from different parts of the world.  We are interested in comparing how the different isolates induce a metabolic gene in response to galactose.  In order to do so, we have cells that constitutively express either a red fluorescent protein (**mCherry**) or a blue fluorescent protein (**BFP**). In addition, each strain has a yellow fluorescent protein (**YFP**) promoter reporter for the first gene in the galactose catabolic pathway (see figure).  To compare the response of each strain, we inoculate at very low cell densities the mCherry and BFP strains in a flask.  Ater 8 hours, we take a sample of the culture to assay. \n",
        "\n",
        " Flow cytometry is a technique that can quickly measure the total fluorescence of a large number of cells one cell at a time.  Flow cytometry has the disadvantage that the signal to noise is often lower than microscopy and a single cell cannot be followed over time; instead one measures changes in a population of cells.  Flow cytometry works by quickly passing a narrow stream of liquire containing the cells through a flow cell. Special focusing techniques ensure that only a single cell is measured at a time.  Multiple lasers and filters are then able to detect a large number of fluorophores (fluorescent compounds) in a cell. Each distinct laser and filter combination is referred to as a channel (e.g. GFP or mCherry). Additionally, other features such as the amount of scattered light, side scatter (SSC) and forward scatter (FSC), are detected. Both SSC and FSC give information on the size of the cells but both measurements are influenced by multiple variables besides size. "
      ],
      "metadata": {
        "id": "V_AWZ7r6y5CQ"
      }
    },
    {
      "cell_type": "markdown",
      "source": [
        "## Part 1: Load the data"
      ],
      "metadata": {
        "id": "sAg-jIYC4a3G"
      }
    },
    {
      "cell_type": "markdown",
      "source": [
        "The data from this experiment is in a file called `facs_data.npy`. \n",
        "\n",
        "The next cell automatically downloads the data and loads it in directly (should work in either Google Colab or jupyter notebook locally). Loading in data that exists locally (if you are using a jupyter notebook for example) isn't as complicated.  If you'd like to download the data locally, you can get it from https://osf.io/y2hck/?show=view. \n",
        "\n"
      ],
      "metadata": {
        "id": "i9yK2S6i4a7n"
      }
    },
    {
      "cell_type": "code",
      "source": [
        "import requests\n",
        "import io\n",
        "\n",
        "r = requests.get('https://osf.io/y2hck/download')\n",
        "facs_data = np.load(io.BytesIO(r.content))  \n",
        "\n",
        "facs_data.shape"
      ],
      "metadata": {
        "id": "e73JbmTeCqA1"
      },
      "execution_count": null,
      "outputs": []
    },
    {
      "cell_type": "markdown",
      "source": [
        "The data is an array with raw data where every row is a different cell measured in the assay and each column represents either a measured fluorescence for a specific channel (columns 2 - 4) or the forward scatter and side scatter (columns 5 and 6). Column 1 contains the time where the cell was measured.\n",
        "\n",
        "\n",
        "| Column 1    | 2 | 3 | 4 | 5 | 6 | \n",
        "| ----------- | ----------- | ----------- |----------- |----------- |----------- |\n",
        "| Time    | YFP     | BFP | mCherry | FSC (Forward Scatter) | SSC (Side scatter) |\n",
        "\n",
        "Before starting any of the exercises below, make a comprehensive list of all the steps that you will need to quantitatively compare the gene expression in the two strains. Think about the types of visualizations and quantifications that you need to answer this question. **Don't just think about it, write out this list!**. Now try to implement it (Check out the hinst or go on to Part 2 and Part 3 for more guidance).\n"
      ],
      "metadata": {
        "id": "mqLPsq715uFC"
      }
    },
    {
      "cell_type": "markdown",
      "source": [
        "## Part 2: Visualizating distributions and relationships in the data\n",
        "\n",
        "1. How would you visualize each channel (column) in the experiment? Data often needs to be mathematically transformed in order to be more clearly understood. In this case, we will log transform the data. **Don't forget to log transform the data**. Make a histogram of the log10 values of each channel in the experiment. What can you tell about the distributions of each channel? Are they unimodal, bimodal? Keep in mind that column 1 contains time information so you can skip that histogram. \n",
        "\n",
        "2. We use scatter plots to visualize relationships between variables.  What can you tell about the relationships between channels? More specifically, what can you tell about the relationship between the BFP and the mCherry channel? What causes the slope in the BFP versus mCherry plot? How can you verify this?\n",
        "\n",
        "3. How can we use the mCherry and BFP values to segment between the red and blue cells? **Hint available**\n",
        "\n",
        "**Hint**: look at our proposed work flow (under HINTS below) if you need exra help.\n",
        "\n"
      ],
      "metadata": {
        "id": "bYzVisQ06ne8"
      }
    },
    {
      "cell_type": "code",
      "source": [
        ""
      ],
      "metadata": {
        "id": "ldAi2IbGuGb3"
      },
      "execution_count": null,
      "outputs": []
    },
    {
      "cell_type": "markdown",
      "source": [
        "## Part 3: Segmenting the strains and comparing their gene expression\n",
        "\n",
        "1. After picking the most appropriate threshold for the segmentation.  Visualize your segmentation by plotting the blue and red cells in diferent colors. What sort of plots might be useful for this?\n",
        "\n",
        "3. Now plot the YFP channel values for each segmented strain. What sort of plots might help you compare the strains? Are blue cells inducing the galactose metabolic genes (tagged in YFP) in the same manner? How similar or different are they? Is there anything special about the blue cells\n",
        "\n",
        "4. What are the different ways that you can use to quantify the YFP levels? Try some.\n",
        "\n",
        "5. Try segmenting the BFP cells into on and off cells and compare all three groups (mCherry, BFP on and BFP off). Do the on cells have different sizes compared to non-inducing cells?"
      ],
      "metadata": {
        "id": "70sesMnA8BSL"
      }
    },
    {
      "cell_type": "code",
      "source": [
        ""
      ],
      "metadata": {
        "id": "MvX8tSDJE85O"
      },
      "execution_count": null,
      "outputs": []
    },
    {
      "cell_type": "markdown",
      "source": [
        "## HINTS\n",
        "\n",
        "Hint Part 2\n",
        "\n",
        "This is the proposed workflow for the analysis.\n",
        "\n",
        "Visualize:\n",
        "\n",
        "1.  Compare histogram versus scatter plots of each channel.\n",
        "2.  Observe distributions of each channel and compare relationships between channels.\n",
        "3.  Make other scatter plots: fluorescence versus time. Check that the fluorescence is even throughout the run.\n",
        "\n",
        "Segment:\n",
        "\n",
        "1. Pick a threshold value to distinguish between strains.\n",
        "2. Compare using the mCherry or BFP channels normalized by size FSC or SSC.\n",
        "3.  Use logical statements to extract rows above a certain threshold.\n",
        "4.  Extract the YFP values for each strain.\n",
        "\n",
        "Quantify:\n",
        "\n",
        "1. Look at the YFP distribution for each channel.\n",
        "2.  Compare the shapes of the distributions.\n",
        "3.  Extract statistics of the distributions: mean, medians, standard deviations, and coefficients of variation.\n",
        "4. Test whether the distributions are statistically different.\n",
        "\n",
        "\n",
        "**Hint part 2, question 3**\n",
        "\n",
        "Plot BFP vs SSC, and BFP vs FSC. Do the same for mCherry. Can you better distinguish between the two strains. Since the FSC and SSC values have information about the size of the cells, you can roughly normalize the BFP values by the cell size, e.g. BFP/SSC. Make a histogram of BFP/SSC. Compare the histogram of BFP/FSC. \n",
        "\n",
        "What threshold value gives you the most accurate distribution between blue and red cells? Note that there is not a single response and multiple answers are correct.\n",
        "\n",
        "**Hint part 3** For question 1, make scatter plots with the segmented populations using different colors."
      ],
      "metadata": {
        "id": "io7FpYXn0k1P"
      }
    }
  ]
}